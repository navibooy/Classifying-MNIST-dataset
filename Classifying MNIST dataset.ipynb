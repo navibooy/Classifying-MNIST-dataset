{
 "cells": [
  {
   "cell_type": "markdown",
   "id": "aad462e4",
   "metadata": {},
   "source": [
    "# CLASSIFYING THE MNIST DATASET"
   ]
  },
  {
   "cell_type": "markdown",
   "id": "9d1a2167",
   "metadata": {},
   "source": [
    "Each image in the MNIST dataset is 28 pixels by 28 pixels on a grayscale. Each pixel corresponds to the intensity of the color (0 is black and 255 is white).\n",
    "\n",
    "Each pixel is an input for our neural network. Given 28 x 28 pixels, we will have 784 input units in our input layer. Then we will linearly combine them and add a non-linearity to get the first hidden layer.\n",
    "\n",
    "In this example, I built this model with two hidden layers. This is good enough to have a good accuracy.\n",
    "\n",
    "Finally, there are 10 digits so we will have 10 output units in the output layer. The output will then be compared to the targets. It will use one hot encoding for both the outputs and the targets."
   ]
  },
  {
   "cell_type": "markdown",
   "id": "d3041c8b",
   "metadata": {},
   "source": [
    "Given this, here are the steps we need take to create the model,\n",
    "- Prepare the data and preprocess it. Create training, validation and test datasets.\n",
    "- Outline the model and choose the activation functions.\n",
    "- Set the appropriate advanced optimizers and the loss function\n",
    "- Let the model learn\n",
    "- Test the accuracy of the model\n",
    "\n",
    "Now, let's proceed to build a neural network with 2 hidden layers."
   ]
  },
  {
   "cell_type": "markdown",
   "id": "a8b5bd11",
   "metadata": {},
   "source": [
    "## Import the relevant libraries"
   ]
  },
  {
   "cell_type": "code",
   "execution_count": 1,
   "id": "24811abb",
   "metadata": {
    "scrolled": false
   },
   "outputs": [],
   "source": [
    "import numpy as np\n",
    "import tensorflow as tf\n",
    "import tensorflow_datasets as tfds\n",
    "import matplotlib.pyplot as plt"
   ]
  },
  {
   "cell_type": "code",
   "execution_count": 15,
   "id": "af3090ab",
   "metadata": {},
   "outputs": [],
   "source": [
    "mnist = tf.keras.datasets.mnist\n",
    "# Split the dataset\n",
    "(x_train, y_train), (x_test, y_test) = mnist.load_data()\n",
   ]
  },
  {
   "cell_type": "code",
   "execution_count": 20,
   "id": "7afae9ca",
   "metadata": {},
   "outputs": [
    {
     "name": "stdout",
     "output_type": "stream",
     "text": [
      "Epoch 1/3\n",
      "1875/1875 [==============================] - 2s 937us/step - loss: 0.2628 - accuracy: 0.9223\n",
      "Epoch 2/3\n",
      "1875/1875 [==============================] - 3s 2ms/step - loss: 0.1063 - accuracy: 0.9664\n",
      "Epoch 3/3\n",
      "1875/1875 [==============================] - 2s 1ms/step - loss: 0.0735 - accuracy: 0.9773\n"
     ]
    },
    {
     "data": {
      "text/plain": [
       "<tensorflow.python.keras.callbacks.History at 0x20a22688c70>"
      ]
     },
     "execution_count": 20,
     "metadata": {},
     "output_type": "execute_result"
    }
   ],
   "source": [
    "x_train = tf.keras.utils.normalize(x_train, axis=1)\n",
    "x_test = tf.keras.utils.normalize(x_test, axis=1)\n",
    "\n",
    "model = tf.keras.models.Sequential()\n",
    "# Input layer\n",
    "model.add(tf.keras.layers.Flatten())\n",
    "\n",
    "# 2 Hidden layers\n",
    "# relu = rectified linear function\n",
    "model.add(tf.keras.layers.Dense(128, activation=tf.nn.relu))\n",
    "model.add(tf.keras.layers.Dense(128, activation=tf.nn.relu))\n",
    "\n",
    "# Output layer\n",
    "# Parameter is the number of expected output classifications\n",
    "# softmax for probability distribution\n",
    "model.add(tf.keras.layers.Dense(10, activation=tf.nn.softmax))\n",
    "\n",
    "# Loss is the degree of error, nn always tries to minimize loss so computation of loss is important in relation to the accuracy of the model\n",
    "model.compile(optimizer='adam',\n",
    "             loss='sparse_categorical_crossentropy',\n",
    "              metrics=['accuracy'])\n",
    "\n",
    "# Train the model and pass what do we want to fit\n",
    "model.fit(x_train, y_train, epochs=3)"
   ]
  },
  {
   "cell_type": "code",
   "execution_count": 23,
   "id": "5a53865f",
   "metadata": {},
   "outputs": [
    {
     "name": "stdout",
     "output_type": "stream",
     "text": [
      "  1/313 [..............................] - ETA: 0s - loss: 0.0158 - accuracy: 1.0000WARNING:tensorflow:Callbacks method `on_test_batch_end` is slow compared to the batch time (batch time: 0.0000s vs `on_test_batch_end` time: 0.0010s). Check your callbacks.\n",
      "313/313 [==============================] - 0s 702us/step - loss: 0.0882 - accuracy: 0.9740\n",
      "0.088224396109581 0.9739999771118164\n"
     ]
    }
   ],
   "source": [
    "# Evaluate the model in the test data\n",
    "val_loss, val_acc = model.evaluate(x_test, y_test)\n",
    "print(val_loss, val_acc)"
   ]
  },
  {
   "cell_type": "code",
   "execution_count": 22,
   "id": "f367c294",
   "metadata": {},
   "outputs": [
    {
     "name": "stdout",
     "output_type": "stream",
     "text": [
      "WARNING:tensorflow:From C:\\Users\\spros\\anaconda3\\envs\\py3-TF2.0\\lib\\site-packages\\tensorflow\\python\\training\\tracking\\tracking.py:111: Model.state_updates (from tensorflow.python.keras.engine.training) is deprecated and will be removed in a future version.\n",
      "Instructions for updating:\n",
      "This property should not be used in TensorFlow 2.0, as updates are applied automatically.\n",
      "WARNING:tensorflow:From C:\\Users\\spros\\anaconda3\\envs\\py3-TF2.0\\lib\\site-packages\\tensorflow\\python\\training\\tracking\\tracking.py:111: Layer.updates (from tensorflow.python.keras.engine.base_layer) is deprecated and will be removed in a future version.\n",
      "Instructions for updating:\n",
      "This property should not be used in TensorFlow 2.0, as updates are applied automatically.\n",
      "INFO:tensorflow:Assets written to: effective_num_reader.model\\assets\n"
     ]
    }
   ],
   "source": [
    "# Save the model\n",
    "model.save('effective_num_reader.model')"
   ]
  },
  {
   "cell_type": "code",
   "execution_count": 24,
   "id": "74d8f036",
   "metadata": {},
   "outputs": [],
   "source": [
    "new_model = tf.keras.models.load_model('effective_num_reader.model')"
   ]
  },
  {
   "cell_type": "code",
   "execution_count": 25,
   "id": "16e958ed",
   "metadata": {},
   "outputs": [],
   "source": [
    "predictions = new_model.predict([x_test])"
   ]
  },
  {
   "cell_type": "code",
   "execution_count": 43,
   "id": "15b3876d",
   "metadata": {},
   "outputs": [
    {
     "name": "stdout",
     "output_type": "stream",
     "text": [
      "6\n"
     ]
    }
   ],
   "source": [
    "print(np.argmax(predictions[123]))"
   ]
  },
  {
   "cell_type": "code",
   "execution_count": 42,
   "id": "221fef90",
   "metadata": {},
   "outputs": [
    {
     "data": {
      "image/png": "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",
      "text/plain": [
       "<Figure size 640x480 with 1 Axes>"
      ]
     },
     "metadata": {},
     "output_type": "display_data"
    }
   ],
   "source": [
    "plt.imshow(x_test[123])\n",
    "plt.show()"
   ]
  }
 ],
 "metadata": {
  "kernelspec": {
   "display_name": "Python [conda env:py3-TF2.0]",
   "language": "python",
   "name": "conda-env-py3-TF2.0-py"
  },
  "language_info": {
   "codemirror_mode": {
    "name": "ipython",
    "version": 3
   },
   "file_extension": ".py",
   "mimetype": "text/x-python",
   "name": "python",
   "nbconvert_exporter": "python",
   "pygments_lexer": "ipython3",
   "version": "3.8.19"
  }
 },
 "nbformat": 4,
 "nbformat_minor": 5
}
