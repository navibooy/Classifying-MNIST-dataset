{
 "cells": [
  {
   "cell_type": "markdown",
   "id": "aad462e4",
   "metadata": {},
   "source": [
    "# CLASSIFYING THE MNIST DATASET"
   ]
  },
  {
   "cell_type": "markdown",
   "id": "9d1a2167",
   "metadata": {},
   "source": [
    "Each image in the MNIST dataset is 28 pixels by 28 pixels on a grayscale. Each pixel corresponds to the intensity of the color (0 is black and 255 is white).\n",
    "\n",
    "Each pixel is an input for our neural network. Given 28 x 28 pixels, we will have 784 input units in our input layer. Then we will linearly combine them and add a non-linearity to get the first hidden layer.\n",
    "\n",
    "In this example, I built this model with two hidden layers. This is good enough to have a good accuracy.\n",
    "\n",
    "Finally, there are 10 digits so we will have 10 output units in the output layer. The output will then be compared to the targets. It will use one hot encoding for both the outputs and the targets."
   ]
  },
  {
   "cell_type": "markdown",
   "id": "d3041c8b",
   "metadata": {},
   "source": [
    "Given this, here are the steps we need take to create the model,\n",
    "- Prepare the data and preprocess it. Create training, validation and test datasets.\n",
    "- Outline the model and choose the activation functions.\n",
    "- Set the appropriate advanced optimizers and the loss function\n",
    "- Let the model learn\n",
    "- Test the accuracy of the model\n",
    "\n",
    "Now, let's proceed to build a neural network with 2 hidden layers."
   ]
  },
  {
   "cell_type": "markdown",
   "id": "a8b5bd11",
   "metadata": {},
   "source": [
    "## Import the relevant libraries"
   ]
  },
  {
   "cell_type": "code",
   "execution_count": 1,
   "id": "24811abb",
   "metadata": {
    "scrolled": false
   },
   "outputs": [],
   "source": [
    "import numpy as np\n",
    "import tensorflow as tf\n",
    "import tensorflow_datasets as tfds\n",
    "import matplotlib.pyplot as plt"
   ]
  },
  {
   "cell_type": "code",
   "execution_count": 3,
   "id": "af3090ab",
   "metadata": {},
   "outputs": [],
   "source": [
    "mnist = tf.keras.datasets.mnist\n",
    "# Split the dataset\n",
    "(x_train, y_train), (x_test, y_test) = mnist.load_data()"
   ]
  },
  {
   "cell_type": "code",
   "execution_count": 4,
   "id": "7afae9ca",
   "metadata": {},
   "outputs": [
    {
     "name": "stdout",
     "output_type": "stream",
     "text": [
      "Epoch 1/3\n",
      "1875/1875 [==============================] - 4s 2ms/step - loss: 0.2573 - accuracy: 0.9247\n",
      "Epoch 2/3\n",
      "1875/1875 [==============================] - 4s 2ms/step - loss: 0.1075 - accuracy: 0.9669\n",
      "Epoch 3/3\n",
      "1875/1875 [==============================] - 4s 2ms/step - loss: 0.0714 - accuracy: 0.9776\n"
     ]
    },
    {
     "data": {
      "text/plain": [
       "<tensorflow.python.keras.callbacks.History at 0x2082ebf90a0>"
      ]
     },
     "execution_count": 4,
     "metadata": {},
     "output_type": "execute_result"
    }
   ],
   "source": [
    "x_train = tf.keras.utils.normalize(x_train, axis=1)\n",
    "x_test = tf.keras.utils.normalize(x_test, axis=1)\n",
    "\n",
    "model = tf.keras.models.Sequential()\n",
    "# Input layer\n",
    "model.add(tf.keras.layers.Flatten())\n",
    "\n",
    "# 2 Hidden layers\n",
    "# relu = rectified linear function\n",
    "model.add(tf.keras.layers.Dense(128, activation=tf.nn.relu))\n",
    "model.add(tf.keras.layers.Dense(128, activation=tf.nn.relu))\n",
    "\n",
    "# Output layer\n",
    "# Parameter is the number of expected output classifications\n",
    "# softmax for probability distribution\n",
    "model.add(tf.keras.layers.Dense(10, activation=tf.nn.softmax))\n",
    "\n",
    "# Loss is the degree of error, nn always tries to minimize loss so computation of loss is important in relation to the accuracy of the model\n",
    "model.compile(optimizer='adam',\n",
    "             loss='sparse_categorical_crossentropy',\n",
    "              metrics=['accuracy'])\n",
    "\n",
    "# Train the model and pass what do we want to fit\n",
    "model.fit(x_train, y_train, epochs=3)"
   ]
  },
  {
   "cell_type": "code",
   "execution_count": 5,
   "id": "5a53865f",
   "metadata": {},
   "outputs": [
    {
     "name": "stdout",
     "output_type": "stream",
     "text": [
      "313/313 [==============================] - 1s 2ms/step - loss: 0.0932 - accuracy: 0.9707\n",
      "0.09318621456623077 0.9707000255584717\n"
     ]
    }
   ],
   "source": [
    "# Evaluate the model in the test data\n",
    "val_loss, val_acc = model.evaluate(x_test, y_test)\n",
    "print(val_loss, val_acc)"
   ]
  },
  {
   "cell_type": "code",
   "execution_count": 6,
   "id": "f367c294",
   "metadata": {},
   "outputs": [],
   "source": [
    "# Save the model\n",
    "# model.save('effective_num_reader.model')"
   ]
  },
  {
   "cell_type": "code",
   "execution_count": 8,
   "id": "74d8f036",
   "metadata": {},
   "outputs": [],
   "source": [
    "# Load the model\n",
    "new_model = tf.keras.models.load_model('effective_num_reader.model')"
   ]
  },
  {
   "cell_type": "code",
   "execution_count": 9,
   "id": "16e958ed",
   "metadata": {},
   "outputs": [],
   "source": [
    "# Run predictions on the x_test\n",
    "predictions = new_model.predict([x_test])"
   ]
  },
  {
   "cell_type": "code",
   "execution_count": 12,
   "id": "15b3876d",
   "metadata": {},
   "outputs": [
    {
     "name": "stdout",
     "output_type": "stream",
     "text": [
      "2\n"
     ]
    }
   ],
   "source": [
    "# Print output\n",
    "print(np.argmax(predictions[1]))"
   ]
  },
  {
   "cell_type": "code",
   "execution_count": 13,
   "id": "221fef90",
   "metadata": {},
   "outputs": [
    {
     "data": {
      "image/png": "[encoded data removed]",
      "text/plain": [
       "<Figure size 640x480 with 1 Axes>"
      ]
     },
     "metadata": {},
     "output_type": "display_data"
    }
   ],
   "source": [
    "plt.imshow(x_test[1])\n",
    "plt.show()"
   ]
  }
 ],
 "metadata": {
  "kernelspec": {
   "display_name": "Python [conda env:py3-TF2.0]",
   "language": "python",
   "name": "conda-env-py3-TF2.0-py"
  },
  "language_info": {
   "codemirror_mode": {
    "name": "ipython",
    "version": 3
   },
   "file_extension": ".py",
   "mimetype": "text/x-python",
   "name": "python",
   "nbconvert_exporter": "python",
   "pygments_lexer": "ipython3",
   "version": "3.8.19"
  }
 },
 "nbformat": 4,
 "nbformat_minor": 5
}
